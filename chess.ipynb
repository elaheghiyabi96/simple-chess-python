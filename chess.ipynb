{
 "cells": [
  {
   "cell_type": "code",
   "execution_count": 8,
   "metadata": {},
   "outputs": [
    {
     "name": "stdout",
     "output_type": "stream",
     "text": [
      "Requirement already satisfied: python-chess in d:\\anaconda\\lib\\site-packages (1.999)\n",
      "Requirement already satisfied: cairosvg in d:\\anaconda\\lib\\site-packages (2.7.1)\n",
      "Requirement already satisfied: chess<2,>=1 in d:\\anaconda\\lib\\site-packages (from python-chess) (1.10.0)\n",
      "Requirement already satisfied: tinycss2 in d:\\anaconda\\lib\\site-packages (from cairosvg) (1.2.1)\n",
      "Requirement already satisfied: cairocffi in d:\\anaconda\\lib\\site-packages (from cairosvg) (1.6.1)\n",
      "Requirement already satisfied: pillow in d:\\anaconda\\lib\\site-packages (from cairosvg) (7.0.0)\n",
      "Requirement already satisfied: defusedxml in d:\\anaconda\\lib\\site-packages (from cairosvg) (0.6.0)\n",
      "Requirement already satisfied: cssselect2 in d:\\anaconda\\lib\\site-packages (from cairosvg) (0.7.0)\n",
      "Requirement already satisfied: webencodings>=0.4 in d:\\anaconda\\lib\\site-packages (from tinycss2->cairosvg) (0.5.1)\n",
      "Requirement already satisfied: cffi>=1.1.0 in d:\\anaconda\\lib\\site-packages (from cairocffi->cairosvg) (1.14.0)\n",
      "Requirement already satisfied: pycparser in d:\\anaconda\\lib\\site-packages (from cffi>=1.1.0->cairocffi->cairosvg) (2.19)\n",
      "Note: you may need to restart the kernel to use updated packages.\n"
     ]
    },
    {
     "name": "stderr",
     "output_type": "stream",
     "text": [
      "Keyring is skipped due to an exception: 'keyring.backends'\n"
     ]
    }
   ],
   "source": [
    "pip install python-chess cairosvg\n"
   ]
  },
  {
   "cell_type": "code",
   "execution_count": 2,
   "metadata": {},
   "outputs": [],
   "source": [
    "import tkinter as tk  # GUI library\n",
    "import chess  # Python-Chess library for handling game logic\n",
    "\n",
    "class ChessGUI:\n",
    "    def __init__(self, root):\n",
    "        self.root = root\n",
    "        self.root.title(\"Chess Game\")  # Set the window title\n",
    "        self.board = chess.Board()  # Create a new chess board\n",
    "        self.selected_square = None  # Keep track of selected square\n",
    "        self.buttons = {}  # Dictionary to store button widgets\n",
    "\n",
    "        self.create_board()  # Initialize board GUI\n",
    "\n",
    "    def create_board(self):\n",
    "        # Create 8x8 grid of buttons for the chessboard\n",
    "        for row in range(8):\n",
    "            for col in range(8):\n",
    "                square = chess.square(col, 7 - row)  # Convert GUI coordinates to board square\n",
    "                btn = tk.Button(\n",
    "                    self.root,\n",
    "                    width=6,\n",
    "                    height=3,\n",
    "                    command=lambda s=square: self.on_click(s),  # Set click handler\n",
    "                    font=(\"Arial\", 16)\n",
    "                )\n",
    "                btn.grid(row=row, column=col)  # Place button on grid\n",
    "                self.buttons[square] = btn  # Store button reference\n",
    "\n",
    "        self.update_board()  # Update button labels/colors\n",
    "\n",
    "    def update_board(self):\n",
    "        # Update all buttons based on current board state\n",
    "        for square, btn in self.buttons.items():\n",
    "            piece = self.board.piece_at(square)  # Get piece on this square\n",
    "\n",
    "            if piece:\n",
    "                symbol = piece.symbol()  # Get symbol (e.g., 'P', 'k')\n",
    "                btn.config(text=symbol)\n",
    "\n",
    "                # Set font color based on piece color\n",
    "                if piece.color:  # White piece\n",
    "                    btn.config(fg=\"black\")\n",
    "                else:  # Black piece\n",
    "                    btn.config(fg=\"white\")\n",
    "            else:\n",
    "                btn.config(text=\"\", fg=\"black\")  # Empty square\n",
    "\n",
    "            # Set background color (light/dark) for chessboard pattern\n",
    "            col, row = chess.square_file(square), chess.square_rank(square)\n",
    "            color = \"#f0d9b5\" if (row + col) % 2 == 0 else \"#b58863\"\n",
    "            btn.config(bg=color)\n",
    "\n",
    "    def on_click(self, square):\n",
    "        # Handle piece selection and movement\n",
    "        if self.selected_square is None:\n",
    "            piece = self.board.piece_at(square)\n",
    "            if piece and piece.color == self.board.turn:\n",
    "                self.selected_square = square  # Select piece if it's this player's turn\n",
    "        else:\n",
    "            move = chess.Move(self.selected_square, square)\n",
    "            if move in self.board.legal_moves:\n",
    "                self.board.push(move)  # Make the move\n",
    "                self.selected_square = None\n",
    "                self.update_board()  # Refresh board display\n",
    "\n",
    "                # Check if the game is over\n",
    "                if self.board.is_game_over():\n",
    "                    result = \"Game over: \" + self.board.result()\n",
    "                    self.show_end(result)\n",
    "            else:\n",
    "                self.selected_square = None  # Deselect if move is illegal\n",
    "\n",
    "    def show_end(self, message):\n",
    "        # Display game over message in a popup window\n",
    "        top = tk.Toplevel(self.root)\n",
    "        tk.Label(top, text=message, font=(\"Arial\", 18)).pack(padx=20, pady=20)\n",
    "        tk.Button(top, text=\"Exit\", command=self.root.quit).pack(pady=10)\n",
    "\n",
    "# Create the application window and run the game\n",
    "root = tk.Tk()\n",
    "app = ChessGUI(root)\n",
    "root.mainloop()\n"
   ]
  },
  {
   "cell_type": "code",
   "execution_count": null,
   "metadata": {},
   "outputs": [],
   "source": []
  }
 ],
 "metadata": {
  "kernelspec": {
   "display_name": "Python 3",
   "language": "python",
   "name": "python3"
  },
  "language_info": {
   "codemirror_mode": {
    "name": "ipython",
    "version": 3
   },
   "file_extension": ".py",
   "mimetype": "text/x-python",
   "name": "python",
   "nbconvert_exporter": "python",
   "pygments_lexer": "ipython3",
   "version": "3.7.6"
  }
 },
 "nbformat": 4,
 "nbformat_minor": 5
}
